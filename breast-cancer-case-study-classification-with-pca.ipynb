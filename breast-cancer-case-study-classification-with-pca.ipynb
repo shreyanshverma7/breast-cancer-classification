{
 "cells": [
  {
   "cell_type": "code",
   "execution_count": null,
   "id": "bf007bdb",
   "metadata": {
    "_cell_guid": "b1076dfc-b9ad-4769-8c92-a6c4dae69d19",
    "_kg_hide-input": true,
    "_uuid": "8f2839f25d086af736a60e9eeb907d3b93b6e0e5",
    "execution": {
     "iopub.execute_input": "2023-08-09T09:00:31.145549Z",
     "iopub.status.busy": "2023-08-09T09:00:31.145003Z",
     "iopub.status.idle": "2023-08-09T09:00:33.357562Z",
     "shell.execute_reply": "2023-08-09T09:00:33.356116Z"
    },
    "papermill": {
     "duration": 2.236764,
     "end_time": "2023-08-09T09:00:33.360820",
     "exception": false,
     "start_time": "2023-08-09T09:00:31.124056",
     "status": "completed"
    },
    "tags": []
   },
   "outputs": [],
   "source": [
    "import numpy as np\n",
    "import pandas as pd \n",
    "\n",
    "import seaborn as sns\n",
    "import matplotlib.pyplot as plt\n",
    "from sklearn.decomposition import PCA\n",
    "from sklearn.model_selection import train_test_split\n",
    "\n",
    "from scipy.stats import zscore\n",
    "%matplotlib inline\n",
    "\n",
    "from sklearn.neighbors import KNeighborsClassifier\n",
    "from sklearn.linear_model import LogisticRegression\n",
    "\n",
    "import os"
   ]
  },
  {
   "cell_type": "markdown",
   "id": "427bcd61",
   "metadata": {
    "papermill": {
     "duration": 0.019131,
     "end_time": "2023-08-09T09:00:33.438992",
     "exception": false,
     "start_time": "2023-08-09T09:00:33.419861",
     "status": "completed"
    },
    "tags": []
   },
   "source": [
    "# Problem Statement"
   ]
  },
  {
   "cell_type": "markdown",
   "id": "059ac69e",
   "metadata": {
    "papermill": {
     "duration": 0.018676,
     "end_time": "2023-08-09T09:00:33.476951",
     "exception": false,
     "start_time": "2023-08-09T09:00:33.458275",
     "status": "completed"
    },
    "tags": []
   },
   "source": [
    "Breast cancer is one of the most prevalent forms of cancer affecting women worldwide. Early and accurate detection plays a critical role in improving patient outcomes and survival rates. However, conventional diagnostic methods have limitations, and there is a need for more effective and efficient approaches. This problem aims to develop a machine learning model that can accurately classify breast cancer cases as malignant or benign based on various features"
   ]
  },
  {
   "cell_type": "markdown",
   "id": "33cecd12",
   "metadata": {
    "papermill": {
     "duration": 0.018682,
     "end_time": "2023-08-09T09:00:33.515458",
     "exception": false,
     "start_time": "2023-08-09T09:00:33.496776",
     "status": "completed"
    },
    "tags": []
   },
   "source": [
    "# Data Preparation and Processing"
   ]
  },
  {
   "cell_type": "code",
   "execution_count": null,
   "id": "75fc81c9",
   "metadata": {
    "execution": {
     "iopub.execute_input": "2023-08-09T09:00:33.555371Z",
     "iopub.status.busy": "2023-08-09T09:00:33.554963Z",
     "iopub.status.idle": "2023-08-09T09:00:33.589992Z",
     "shell.execute_reply": "2023-08-09T09:00:33.588638Z"
    },
    "papermill": {
     "duration": 0.058746,
     "end_time": "2023-08-09T09:00:33.593217",
     "exception": false,
     "start_time": "2023-08-09T09:00:33.534471",
     "status": "completed"
    },
    "tags": []
   },
   "outputs": [],
   "source": [
    "df = pd.read_csv(\"Datasets/breast_cancer.csv\")"
   ]
  },
  {
   "cell_type": "code",
   "execution_count": null,
   "id": "e779887b",
   "metadata": {
    "execution": {
     "iopub.execute_input": "2023-08-09T09:00:33.634184Z",
     "iopub.status.busy": "2023-08-09T09:00:33.633557Z",
     "iopub.status.idle": "2023-08-09T09:00:33.684326Z",
     "shell.execute_reply": "2023-08-09T09:00:33.683012Z"
    },
    "papermill": {
     "duration": 0.074561,
     "end_time": "2023-08-09T09:00:33.687238",
     "exception": false,
     "start_time": "2023-08-09T09:00:33.612677",
     "status": "completed"
    },
    "tags": []
   },
   "outputs": [],
   "source": [
    "df.head(10)"
   ]
  },
  {
   "cell_type": "code",
   "execution_count": null,
   "id": "b59255f4",
   "metadata": {
    "execution": {
     "iopub.execute_input": "2023-08-09T09:00:33.729937Z",
     "iopub.status.busy": "2023-08-09T09:00:33.729545Z",
     "iopub.status.idle": "2023-08-09T09:00:33.737014Z",
     "shell.execute_reply": "2023-08-09T09:00:33.735660Z"
    },
    "papermill": {
     "duration": 0.032102,
     "end_time": "2023-08-09T09:00:33.739777",
     "exception": false,
     "start_time": "2023-08-09T09:00:33.707675",
     "status": "completed"
    },
    "tags": []
   },
   "outputs": [],
   "source": [
    "df.shape"
   ]
  },
  {
   "cell_type": "code",
   "execution_count": null,
   "id": "f511551d",
   "metadata": {
    "execution": {
     "iopub.execute_input": "2023-08-09T09:00:33.786760Z",
     "iopub.status.busy": "2023-08-09T09:00:33.786334Z",
     "iopub.status.idle": "2023-08-09T09:00:33.795763Z",
     "shell.execute_reply": "2023-08-09T09:00:33.794664Z"
    },
    "papermill": {
     "duration": 0.034884,
     "end_time": "2023-08-09T09:00:33.798197",
     "exception": false,
     "start_time": "2023-08-09T09:00:33.763313",
     "status": "completed"
    },
    "tags": []
   },
   "outputs": [],
   "source": [
    "df.dtypes"
   ]
  },
  {
   "cell_type": "markdown",
   "id": "8fcca3bd",
   "metadata": {
    "papermill": {
     "duration": 0.019845,
     "end_time": "2023-08-09T09:00:33.837690",
     "exception": false,
     "start_time": "2023-08-09T09:00:33.817845",
     "status": "completed"
    },
    "tags": []
   },
   "source": [
    "**From initial analysis of the data, it looks that all the columns have correct data types. Further we will check for duplicate rows, missing and unexpected values**"
   ]
  },
  {
   "cell_type": "code",
   "execution_count": null,
   "id": "716a71a8",
   "metadata": {
    "execution": {
     "iopub.execute_input": "2023-08-09T09:00:33.881298Z",
     "iopub.status.busy": "2023-08-09T09:00:33.880880Z",
     "iopub.status.idle": "2023-08-09T09:00:33.907162Z",
     "shell.execute_reply": "2023-08-09T09:00:33.906235Z"
    },
    "papermill": {
     "duration": 0.050723,
     "end_time": "2023-08-09T09:00:33.909586",
     "exception": false,
     "start_time": "2023-08-09T09:00:33.858863",
     "status": "completed"
    },
    "tags": []
   },
   "outputs": [],
   "source": [
    "df.duplicated().sum()"
   ]
  },
  {
   "cell_type": "code",
   "execution_count": null,
   "id": "21b24b7e",
   "metadata": {
    "execution": {
     "iopub.execute_input": "2023-08-09T09:00:33.951244Z",
     "iopub.status.busy": "2023-08-09T09:00:33.950751Z",
     "iopub.status.idle": "2023-08-09T09:00:33.963778Z",
     "shell.execute_reply": "2023-08-09T09:00:33.962493Z"
    },
    "papermill": {
     "duration": 0.036958,
     "end_time": "2023-08-09T09:00:33.966483",
     "exception": false,
     "start_time": "2023-08-09T09:00:33.929525",
     "status": "completed"
    },
    "tags": []
   },
   "outputs": [],
   "source": [
    "df.isnull().sum()"
   ]
  },
  {
   "cell_type": "markdown",
   "id": "8fe03db9",
   "metadata": {
    "papermill": {
     "duration": 0.023812,
     "end_time": "2023-08-09T09:00:34.011868",
     "exception": false,
     "start_time": "2023-08-09T09:00:33.988056",
     "status": "completed"
    },
    "tags": []
   },
   "source": [
    "The column \"**Unnamed: 32**\" will be dropped in later steps."
   ]
  },
  {
   "cell_type": "code",
   "execution_count": null,
   "id": "bf867638",
   "metadata": {
    "execution": {
     "iopub.execute_input": "2023-08-09T09:00:34.055661Z",
     "iopub.status.busy": "2023-08-09T09:00:34.055144Z",
     "iopub.status.idle": "2023-08-09T09:00:34.172316Z",
     "shell.execute_reply": "2023-08-09T09:00:34.170901Z"
    },
    "papermill": {
     "duration": 0.142404,
     "end_time": "2023-08-09T09:00:34.175368",
     "exception": false,
     "start_time": "2023-08-09T09:00:34.032964",
     "status": "completed"
    },
    "tags": []
   },
   "outputs": [],
   "source": [
    "df.describe().T"
   ]
  },
  {
   "cell_type": "code",
   "execution_count": null,
   "id": "12a50564",
   "metadata": {
    "execution": {
     "iopub.execute_input": "2023-08-09T09:00:34.220962Z",
     "iopub.status.busy": "2023-08-09T09:00:34.220522Z",
     "iopub.status.idle": "2023-08-09T09:00:34.227629Z",
     "shell.execute_reply": "2023-08-09T09:00:34.226445Z"
    },
    "papermill": {
     "duration": 0.033368,
     "end_time": "2023-08-09T09:00:34.229992",
     "exception": false,
     "start_time": "2023-08-09T09:00:34.196624",
     "status": "completed"
    },
    "tags": []
   },
   "outputs": [],
   "source": [
    "df.drop(['id', 'Unnamed: 32'],inplace = True, axis = 1)"
   ]
  },
  {
   "cell_type": "markdown",
   "id": "41a1bfea",
   "metadata": {
    "papermill": {
     "duration": 0.019899,
     "end_time": "2023-08-09T09:00:34.270524",
     "exception": false,
     "start_time": "2023-08-09T09:00:34.250625",
     "status": "completed"
    },
    "tags": []
   },
   "source": [
    "**Now, we have a clean dataset. Now we will do Univarate and Bivariate Analysis.**"
   ]
  },
  {
   "cell_type": "markdown",
   "id": "8437e0b2",
   "metadata": {
    "papermill": {
     "duration": 0.019954,
     "end_time": "2023-08-09T09:00:34.311376",
     "exception": false,
     "start_time": "2023-08-09T09:00:34.291422",
     "status": "completed"
    },
    "tags": []
   },
   "source": [
    "# Data Analysis"
   ]
  },
  {
   "cell_type": "markdown",
   "id": "b9e395dd",
   "metadata": {
    "papermill": {
     "duration": 0.020377,
     "end_time": "2023-08-09T09:00:34.352363",
     "exception": false,
     "start_time": "2023-08-09T09:00:34.331986",
     "status": "completed"
    },
    "tags": []
   },
   "source": [
    "**Univariate Analysis**"
   ]
  },
  {
   "cell_type": "code",
   "execution_count": null,
   "id": "afaa848b",
   "metadata": {
    "execution": {
     "iopub.execute_input": "2023-08-09T09:00:34.394852Z",
     "iopub.status.busy": "2023-08-09T09:00:34.394473Z",
     "iopub.status.idle": "2023-08-09T09:00:34.405774Z",
     "shell.execute_reply": "2023-08-09T09:00:34.403944Z"
    },
    "papermill": {
     "duration": 0.036016,
     "end_time": "2023-08-09T09:00:34.408660",
     "exception": false,
     "start_time": "2023-08-09T09:00:34.372644",
     "status": "completed"
    },
    "tags": []
   },
   "outputs": [],
   "source": [
    "diag_count = df['diagnosis'].value_counts()\n",
    "\n",
    "print(diag_count)"
   ]
  },
  {
   "cell_type": "code",
   "execution_count": null,
   "id": "b402c70c",
   "metadata": {
    "execution": {
     "iopub.execute_input": "2023-08-09T09:00:34.454616Z",
     "iopub.status.busy": "2023-08-09T09:00:34.453199Z",
     "iopub.status.idle": "2023-08-09T09:00:34.735066Z",
     "shell.execute_reply": "2023-08-09T09:00:34.733618Z"
    },
    "papermill": {
     "duration": 0.308198,
     "end_time": "2023-08-09T09:00:34.738004",
     "exception": false,
     "start_time": "2023-08-09T09:00:34.429806",
     "status": "completed"
    },
    "tags": []
   },
   "outputs": [],
   "source": [
    "sns.countplot(data = df, x = 'diagnosis')"
   ]
  },
  {
   "cell_type": "markdown",
   "id": "0dbb6b3c",
   "metadata": {
    "papermill": {
     "duration": 0.021608,
     "end_time": "2023-08-09T09:00:34.782816",
     "exception": false,
     "start_time": "2023-08-09T09:00:34.761208",
     "status": "completed"
    },
    "tags": []
   },
   "source": [
    "**Benign cases are more than Malignant. The distribution looks somewhat imbalanced. We will balance it in later stage.**"
   ]
  },
  {
   "cell_type": "code",
   "execution_count": null,
   "id": "8a23ba1a",
   "metadata": {
    "execution": {
     "iopub.execute_input": "2023-08-09T09:00:34.829799Z",
     "iopub.status.busy": "2023-08-09T09:00:34.828612Z",
     "iopub.status.idle": "2023-08-09T09:00:34.835912Z",
     "shell.execute_reply": "2023-08-09T09:00:34.834971Z"
    },
    "papermill": {
     "duration": 0.033042,
     "end_time": "2023-08-09T09:00:34.838289",
     "exception": false,
     "start_time": "2023-08-09T09:00:34.805247",
     "status": "completed"
    },
    "tags": []
   },
   "outputs": [],
   "source": [
    "df.columns"
   ]
  },
  {
   "cell_type": "code",
   "execution_count": null,
   "id": "c55d456b",
   "metadata": {
    "execution": {
     "iopub.execute_input": "2023-08-09T09:00:34.884627Z",
     "iopub.status.busy": "2023-08-09T09:00:34.883912Z",
     "iopub.status.idle": "2023-08-09T09:00:35.304972Z",
     "shell.execute_reply": "2023-08-09T09:00:35.303436Z"
    },
    "papermill": {
     "duration": 0.447756,
     "end_time": "2023-08-09T09:00:35.308113",
     "exception": false,
     "start_time": "2023-08-09T09:00:34.860357",
     "status": "completed"
    },
    "tags": []
   },
   "outputs": [],
   "source": [
    "sns.scatterplot(data = df, x = 'radius_mean', y = 'radius_worst', hue = 'diagnosis')"
   ]
  },
  {
   "cell_type": "code",
   "execution_count": null,
   "id": "6dd4c2e4",
   "metadata": {
    "execution": {
     "iopub.execute_input": "2023-08-09T09:00:35.358910Z",
     "iopub.status.busy": "2023-08-09T09:00:35.357412Z",
     "iopub.status.idle": "2023-08-09T09:00:35.833484Z",
     "shell.execute_reply": "2023-08-09T09:00:35.832465Z"
    },
    "papermill": {
     "duration": 0.503822,
     "end_time": "2023-08-09T09:00:35.836346",
     "exception": false,
     "start_time": "2023-08-09T09:00:35.332524",
     "status": "completed"
    },
    "tags": []
   },
   "outputs": [],
   "source": [
    "sns.scatterplot(data = df, x = 'texture_mean', y = 'texture_worst', hue = 'diagnosis')"
   ]
  },
  {
   "cell_type": "code",
   "execution_count": null,
   "id": "3f409302",
   "metadata": {
    "execution": {
     "iopub.execute_input": "2023-08-09T09:00:35.889025Z",
     "iopub.status.busy": "2023-08-09T09:00:35.888573Z",
     "iopub.status.idle": "2023-08-09T09:00:36.372571Z",
     "shell.execute_reply": "2023-08-09T09:00:36.371166Z"
    },
    "papermill": {
     "duration": 0.51481,
     "end_time": "2023-08-09T09:00:36.375677",
     "exception": false,
     "start_time": "2023-08-09T09:00:35.860867",
     "status": "completed"
    },
    "tags": []
   },
   "outputs": [],
   "source": [
    "sns.scatterplot(data = df, x = 'perimeter_mean', y = 'perimeter_worst', hue = 'diagnosis')"
   ]
  },
  {
   "cell_type": "code",
   "execution_count": null,
   "id": "58f41050",
   "metadata": {
    "execution": {
     "iopub.execute_input": "2023-08-09T09:00:36.432233Z",
     "iopub.status.busy": "2023-08-09T09:00:36.431770Z",
     "iopub.status.idle": "2023-08-09T09:00:36.931642Z",
     "shell.execute_reply": "2023-08-09T09:00:36.930376Z"
    },
    "papermill": {
     "duration": 0.531135,
     "end_time": "2023-08-09T09:00:36.934492",
     "exception": false,
     "start_time": "2023-08-09T09:00:36.403357",
     "status": "completed"
    },
    "tags": []
   },
   "outputs": [],
   "source": [
    "sns.scatterplot(data = df, x = 'area_mean', y = 'area_worst', hue = 'diagnosis')"
   ]
  },
  {
   "cell_type": "markdown",
   "id": "9c92ca93",
   "metadata": {
    "papermill": {
     "duration": 0.025184,
     "end_time": "2023-08-09T09:00:36.986201",
     "exception": false,
     "start_time": "2023-08-09T09:00:36.961017",
     "status": "completed"
    },
    "tags": []
   },
   "source": [
    "smoothness_mean', 'compactness_mean', 'concavity_mean',\n",
    "       'concave points_mean', 'symmetry_mean', 'fractal_dimension_mean'"
   ]
  },
  {
   "cell_type": "code",
   "execution_count": null,
   "id": "5da9f7e5",
   "metadata": {
    "execution": {
     "iopub.execute_input": "2023-08-09T09:00:37.041883Z",
     "iopub.status.busy": "2023-08-09T09:00:37.041479Z",
     "iopub.status.idle": "2023-08-09T09:00:37.522602Z",
     "shell.execute_reply": "2023-08-09T09:00:37.521314Z"
    },
    "papermill": {
     "duration": 0.511766,
     "end_time": "2023-08-09T09:00:37.525648",
     "exception": false,
     "start_time": "2023-08-09T09:00:37.013882",
     "status": "completed"
    },
    "tags": []
   },
   "outputs": [],
   "source": [
    "sns.scatterplot(data = df, x = 'smoothness_mean', y = 'smoothness_worst', hue = 'diagnosis')"
   ]
  },
  {
   "cell_type": "code",
   "execution_count": null,
   "id": "1eb7da90",
   "metadata": {
    "execution": {
     "iopub.execute_input": "2023-08-09T09:00:37.588355Z",
     "iopub.status.busy": "2023-08-09T09:00:37.587880Z",
     "iopub.status.idle": "2023-08-09T09:00:38.089026Z",
     "shell.execute_reply": "2023-08-09T09:00:38.087632Z"
    },
    "papermill": {
     "duration": 0.537068,
     "end_time": "2023-08-09T09:00:38.092054",
     "exception": false,
     "start_time": "2023-08-09T09:00:37.554986",
     "status": "completed"
    },
    "tags": []
   },
   "outputs": [],
   "source": [
    "sns.scatterplot(data = df, x = 'compactness_mean', y = 'compactness_worst', hue = 'diagnosis')"
   ]
  },
  {
   "cell_type": "code",
   "execution_count": null,
   "id": "e046160b",
   "metadata": {
    "execution": {
     "iopub.execute_input": "2023-08-09T09:00:38.156487Z",
     "iopub.status.busy": "2023-08-09T09:00:38.155626Z",
     "iopub.status.idle": "2023-08-09T09:00:38.635026Z",
     "shell.execute_reply": "2023-08-09T09:00:38.633620Z"
    },
    "papermill": {
     "duration": 0.516081,
     "end_time": "2023-08-09T09:00:38.638170",
     "exception": false,
     "start_time": "2023-08-09T09:00:38.122089",
     "status": "completed"
    },
    "tags": []
   },
   "outputs": [],
   "source": [
    "sns.scatterplot(data = df, x = 'concavity_mean', y = 'concavity_worst', hue = 'diagnosis')"
   ]
  },
  {
   "cell_type": "code",
   "execution_count": null,
   "id": "5d10f581",
   "metadata": {
    "execution": {
     "iopub.execute_input": "2023-08-09T09:00:38.705222Z",
     "iopub.status.busy": "2023-08-09T09:00:38.704656Z",
     "iopub.status.idle": "2023-08-09T09:00:39.440567Z",
     "shell.execute_reply": "2023-08-09T09:00:39.439378Z"
    },
    "papermill": {
     "duration": 0.773563,
     "end_time": "2023-08-09T09:00:39.443487",
     "exception": false,
     "start_time": "2023-08-09T09:00:38.669924",
     "status": "completed"
    },
    "tags": []
   },
   "outputs": [],
   "source": [
    "sns.scatterplot(data = df, x = 'concave points_mean', y = 'concave points_worst', hue = 'diagnosis')"
   ]
  },
  {
   "cell_type": "code",
   "execution_count": null,
   "id": "e0afd5df",
   "metadata": {
    "execution": {
     "iopub.execute_input": "2023-08-09T09:00:39.507605Z",
     "iopub.status.busy": "2023-08-09T09:00:39.507172Z",
     "iopub.status.idle": "2023-08-09T09:00:39.959323Z",
     "shell.execute_reply": "2023-08-09T09:00:39.958185Z"
    },
    "papermill": {
     "duration": 0.487969,
     "end_time": "2023-08-09T09:00:39.962250",
     "exception": false,
     "start_time": "2023-08-09T09:00:39.474281",
     "status": "completed"
    },
    "tags": []
   },
   "outputs": [],
   "source": [
    "sns.scatterplot(data = df, x = 'symmetry_mean', y = 'symmetry_worst', hue = 'diagnosis')"
   ]
  },
  {
   "cell_type": "code",
   "execution_count": null,
   "id": "db402613",
   "metadata": {
    "execution": {
     "iopub.execute_input": "2023-08-09T09:00:40.030231Z",
     "iopub.status.busy": "2023-08-09T09:00:40.029565Z",
     "iopub.status.idle": "2023-08-09T09:00:40.492915Z",
     "shell.execute_reply": "2023-08-09T09:00:40.491511Z"
    },
    "papermill": {
     "duration": 0.502548,
     "end_time": "2023-08-09T09:00:40.496706",
     "exception": false,
     "start_time": "2023-08-09T09:00:39.994158",
     "status": "completed"
    },
    "tags": []
   },
   "outputs": [],
   "source": [
    "sns.scatterplot(data = df, x = 'fractal_dimension_mean', y = 'fractal_dimension_worst', hue = 'diagnosis')"
   ]
  },
  {
   "cell_type": "markdown",
   "id": "a24ad05b",
   "metadata": {
    "papermill": {
     "duration": 0.034896,
     "end_time": "2023-08-09T09:00:40.568845",
     "exception": false,
     "start_time": "2023-08-09T09:00:40.533949",
     "status": "completed"
    },
    "tags": []
   },
   "source": [
    "**Inferences**\n",
    "\n",
    "* For Smaller radius - Benign.\n",
    "* For smaller texture - Benign but some are benign with larger texture as well.\n",
    "* For small Perimeter - Benign\n",
    "* For small Area - Benign\n",
    "* In smoothness, Malignant and Benign are almost even spread out.\n",
    "* Benign is less compact.\n",
    "* Less concavity and Convex Points - Benign\n",
    "* Based on symmetry and fractal dimension - Both diagnosis are evenly spread out.\n"
   ]
  },
  {
   "cell_type": "markdown",
   "id": "1b6359ff",
   "metadata": {
    "papermill": {
     "duration": 0.034754,
     "end_time": "2023-08-09T09:00:40.639046",
     "exception": false,
     "start_time": "2023-08-09T09:00:40.604292",
     "status": "completed"
    },
    "tags": []
   },
   "source": [
    "# Basic Modelling"
   ]
  },
  {
   "cell_type": "code",
   "execution_count": null,
   "id": "fe3abf70",
   "metadata": {
    "execution": {
     "iopub.execute_input": "2023-08-09T09:00:40.714689Z",
     "iopub.status.busy": "2023-08-09T09:00:40.714054Z",
     "iopub.status.idle": "2023-08-09T09:00:40.720376Z",
     "shell.execute_reply": "2023-08-09T09:00:40.719534Z"
    },
    "papermill": {
     "duration": 0.047516,
     "end_time": "2023-08-09T09:00:40.722950",
     "exception": false,
     "start_time": "2023-08-09T09:00:40.675434",
     "status": "completed"
    },
    "tags": []
   },
   "outputs": [],
   "source": [
    "X = df.drop(['diagnosis'], axis = 1)\n",
    "y = df[['diagnosis']]"
   ]
  },
  {
   "cell_type": "code",
   "execution_count": null,
   "id": "870ec0c5",
   "metadata": {
    "execution": {
     "iopub.execute_input": "2023-08-09T09:00:40.798603Z",
     "iopub.status.busy": "2023-08-09T09:00:40.797817Z",
     "iopub.status.idle": "2023-08-09T09:00:40.808137Z",
     "shell.execute_reply": "2023-08-09T09:00:40.806913Z"
    },
    "papermill": {
     "duration": 0.053176,
     "end_time": "2023-08-09T09:00:40.811496",
     "exception": false,
     "start_time": "2023-08-09T09:00:40.758320",
     "status": "completed"
    },
    "tags": []
   },
   "outputs": [],
   "source": [
    "diagnosis_count = y.value_counts()\n",
    "\n",
    "print(diagnosis_count)"
   ]
  },
  {
   "cell_type": "code",
   "execution_count": null,
   "id": "fc13d01f",
   "metadata": {
    "execution": {
     "iopub.execute_input": "2023-08-09T09:00:40.883051Z",
     "iopub.status.busy": "2023-08-09T09:00:40.882209Z",
     "iopub.status.idle": "2023-08-09T09:00:41.443809Z",
     "shell.execute_reply": "2023-08-09T09:00:41.442651Z"
    },
    "papermill": {
     "duration": 0.601246,
     "end_time": "2023-08-09T09:00:41.446892",
     "exception": false,
     "start_time": "2023-08-09T09:00:40.845646",
     "status": "completed"
    },
    "tags": []
   },
   "outputs": [],
   "source": [
    "from imblearn.over_sampling import SMOTE\n",
    "from sklearn.impute import SimpleImputer\n",
    "\n",
    "smo = SMOTE()\n",
    "X_balanced, Y_balanced = smo.fit_resample(X, y)"
   ]
  },
  {
   "cell_type": "code",
   "execution_count": null,
   "id": "d959972a",
   "metadata": {
    "execution": {
     "iopub.execute_input": "2023-08-09T09:00:41.521839Z",
     "iopub.status.busy": "2023-08-09T09:00:41.520316Z",
     "iopub.status.idle": "2023-08-09T09:00:41.530218Z",
     "shell.execute_reply": "2023-08-09T09:00:41.529116Z"
    },
    "papermill": {
     "duration": 0.05127,
     "end_time": "2023-08-09T09:00:41.533443",
     "exception": false,
     "start_time": "2023-08-09T09:00:41.482173",
     "status": "completed"
    },
    "tags": []
   },
   "outputs": [],
   "source": [
    "x_train, x_test, y_train, y_test = train_test_split(X_balanced, Y_balanced, test_size = 0.3, random_state = 1)"
   ]
  },
  {
   "cell_type": "code",
   "execution_count": null,
   "id": "d4ff4f90",
   "metadata": {
    "execution": {
     "iopub.execute_input": "2023-08-09T09:00:41.606974Z",
     "iopub.status.busy": "2023-08-09T09:00:41.606117Z",
     "iopub.status.idle": "2023-08-09T09:00:41.618355Z",
     "shell.execute_reply": "2023-08-09T09:00:41.616174Z"
    },
    "papermill": {
     "duration": 0.051716,
     "end_time": "2023-08-09T09:00:41.621278",
     "exception": false,
     "start_time": "2023-08-09T09:00:41.569562",
     "status": "completed"
    },
    "tags": []
   },
   "outputs": [],
   "source": [
    "diagnosis_count_bal = Y_balanced.value_counts()\n",
    "\n",
    "print(diagnosis_count_bal)"
   ]
  },
  {
   "cell_type": "code",
   "execution_count": null,
   "id": "03c17ea1",
   "metadata": {
    "execution": {
     "iopub.execute_input": "2023-08-09T09:00:41.695670Z",
     "iopub.status.busy": "2023-08-09T09:00:41.694550Z",
     "iopub.status.idle": "2023-08-09T09:00:41.700839Z",
     "shell.execute_reply": "2023-08-09T09:00:41.699286Z"
    },
    "papermill": {
     "duration": 0.04538,
     "end_time": "2023-08-09T09:00:41.703869",
     "exception": false,
     "start_time": "2023-08-09T09:00:41.658489",
     "status": "completed"
    },
    "tags": []
   },
   "outputs": [],
   "source": [
    "algo = [LogisticRegression, KNeighborsClassifier]"
   ]
  },
  {
   "cell_type": "code",
   "execution_count": null,
   "id": "9820772b",
   "metadata": {
    "execution": {
     "iopub.execute_input": "2023-08-09T09:00:41.777766Z",
     "iopub.status.busy": "2023-08-09T09:00:41.776242Z",
     "iopub.status.idle": "2023-08-09T09:00:41.783877Z",
     "shell.execute_reply": "2023-08-09T09:00:41.782855Z"
    },
    "papermill": {
     "duration": 0.047346,
     "end_time": "2023-08-09T09:00:41.786830",
     "exception": false,
     "start_time": "2023-08-09T09:00:41.739484",
     "status": "completed"
    },
    "tags": []
   },
   "outputs": [],
   "source": [
    "def algo_(x_train, x_test, y_train, y_test, algo):\n",
    "    scores = []\n",
    "    for alg in algo:\n",
    "        model = alg()\n",
    "        model.fit(x_train, y_train)\n",
    "        y_predict = model.predict(x_test)\n",
    "        train_score = model.score(x_train, y_train)\n",
    "        test_score = model.score(x_test, y_test)\n",
    "        \n",
    "        scores.append((alg.__name__, train_score, test_score))\n",
    "    \n",
    "    score_df = pd.DataFrame(scores, columns=['Algorithm', 'In Sample Score', 'Out of Sample Score'])\n",
    "    return score_df\n",
    "        \n",
    "    "
   ]
  },
  {
   "cell_type": "code",
   "execution_count": null,
   "id": "d840b237",
   "metadata": {
    "execution": {
     "iopub.execute_input": "2023-08-09T09:00:41.866135Z",
     "iopub.status.busy": "2023-08-09T09:00:41.864598Z",
     "iopub.status.idle": "2023-08-09T09:00:42.128124Z",
     "shell.execute_reply": "2023-08-09T09:00:42.126914Z"
    },
    "papermill": {
     "duration": 0.304237,
     "end_time": "2023-08-09T09:00:42.130899",
     "exception": false,
     "start_time": "2023-08-09T09:00:41.826662",
     "status": "completed"
    },
    "tags": []
   },
   "outputs": [],
   "source": [
    "result_df = algo_(x_train, x_test, y_train, y_test, algo)\n",
    "print(result_df)"
   ]
  },
  {
   "cell_type": "markdown",
   "id": "b6346b0c",
   "metadata": {
    "papermill": {
     "duration": 0.03371,
     "end_time": "2023-08-09T09:00:42.198565",
     "exception": false,
     "start_time": "2023-08-09T09:00:42.164855",
     "status": "completed"
    },
    "tags": []
   },
   "source": [
    "The out-sample score for Logistic Regression is around 95%. Now, we will try to do PCA"
   ]
  },
  {
   "cell_type": "markdown",
   "id": "46a98cc8",
   "metadata": {
    "papermill": {
     "duration": 0.033781,
     "end_time": "2023-08-09T09:00:42.267561",
     "exception": false,
     "start_time": "2023-08-09T09:00:42.233780",
     "status": "completed"
    },
    "tags": []
   },
   "source": [
    "**Since, there are many columns, we will do PCA to reduce columns and extract features**"
   ]
  },
  {
   "cell_type": "markdown",
   "id": "63c278b9",
   "metadata": {
    "papermill": {
     "duration": 0.03424,
     "end_time": "2023-08-09T09:00:42.336030",
     "exception": false,
     "start_time": "2023-08-09T09:00:42.301790",
     "status": "completed"
    },
    "tags": []
   },
   "source": [
    "# Principle Component Analysis"
   ]
  },
  {
   "cell_type": "code",
   "execution_count": null,
   "id": "19f1fb39",
   "metadata": {
    "execution": {
     "iopub.execute_input": "2023-08-09T09:00:42.407085Z",
     "iopub.status.busy": "2023-08-09T09:00:42.405802Z",
     "iopub.status.idle": "2023-08-09T09:00:42.411873Z",
     "shell.execute_reply": "2023-08-09T09:00:42.410665Z"
    },
    "papermill": {
     "duration": 0.044159,
     "end_time": "2023-08-09T09:00:42.414659",
     "exception": false,
     "start_time": "2023-08-09T09:00:42.370500",
     "status": "completed"
    },
    "tags": []
   },
   "outputs": [],
   "source": [
    "df_pca = df.copy()"
   ]
  },
  {
   "cell_type": "code",
   "execution_count": null,
   "id": "cab4e6bf",
   "metadata": {
    "execution": {
     "iopub.execute_input": "2023-08-09T09:00:42.485812Z",
     "iopub.status.busy": "2023-08-09T09:00:42.485303Z",
     "iopub.status.idle": "2023-08-09T09:00:42.492998Z",
     "shell.execute_reply": "2023-08-09T09:00:42.492054Z"
    },
    "papermill": {
     "duration": 0.046479,
     "end_time": "2023-08-09T09:00:42.495193",
     "exception": false,
     "start_time": "2023-08-09T09:00:42.448714",
     "status": "completed"
    },
    "tags": []
   },
   "outputs": [],
   "source": [
    "X = df_pca.drop(['diagnosis'], axis = 1)\n",
    "y = df_pca[['diagnosis']]"
   ]
  },
  {
   "cell_type": "code",
   "execution_count": null,
   "id": "f87e98db",
   "metadata": {
    "execution": {
     "iopub.execute_input": "2023-08-09T09:00:42.566445Z",
     "iopub.status.busy": "2023-08-09T09:00:42.565210Z",
     "iopub.status.idle": "2023-08-09T09:00:42.628735Z",
     "shell.execute_reply": "2023-08-09T09:00:42.627757Z"
    },
    "papermill": {
     "duration": 0.101851,
     "end_time": "2023-08-09T09:00:42.631099",
     "exception": false,
     "start_time": "2023-08-09T09:00:42.529248",
     "status": "completed"
    },
    "tags": []
   },
   "outputs": [],
   "source": [
    "XScaled = X.apply(zscore)\n",
    "XScaled.head()"
   ]
  },
  {
   "cell_type": "code",
   "execution_count": null,
   "id": "65fcd290",
   "metadata": {
    "execution": {
     "iopub.execute_input": "2023-08-09T09:00:42.702833Z",
     "iopub.status.busy": "2023-08-09T09:00:42.701822Z",
     "iopub.status.idle": "2023-08-09T09:00:42.720405Z",
     "shell.execute_reply": "2023-08-09T09:00:42.719364Z"
    },
    "papermill": {
     "duration": 0.058731,
     "end_time": "2023-08-09T09:00:42.723953",
     "exception": false,
     "start_time": "2023-08-09T09:00:42.665222",
     "status": "completed"
    },
    "tags": []
   },
   "outputs": [],
   "source": [
    "covMatrix = np.cov(XScaled, rowvar = False)\n",
    "print(covMatrix)"
   ]
  },
  {
   "cell_type": "code",
   "execution_count": null,
   "id": "955cef4e",
   "metadata": {
    "execution": {
     "iopub.execute_input": "2023-08-09T09:00:42.796053Z",
     "iopub.status.busy": "2023-08-09T09:00:42.795451Z",
     "iopub.status.idle": "2023-08-09T09:00:42.835140Z",
     "shell.execute_reply": "2023-08-09T09:00:42.834037Z"
    },
    "papermill": {
     "duration": 0.080008,
     "end_time": "2023-08-09T09:00:42.838738",
     "exception": false,
     "start_time": "2023-08-09T09:00:42.758730",
     "status": "completed"
    },
    "tags": []
   },
   "outputs": [],
   "source": [
    "pca = PCA(n_components = 30)\n",
    "pca.fit(XScaled)"
   ]
  },
  {
   "cell_type": "code",
   "execution_count": null,
   "id": "ecf67f76",
   "metadata": {
    "execution": {
     "iopub.execute_input": "2023-08-09T09:00:42.962533Z",
     "iopub.status.busy": "2023-08-09T09:00:42.962123Z",
     "iopub.status.idle": "2023-08-09T09:00:43.267210Z",
     "shell.execute_reply": "2023-08-09T09:00:43.265647Z"
    },
    "papermill": {
     "duration": 0.358944,
     "end_time": "2023-08-09T09:00:43.270492",
     "exception": false,
     "start_time": "2023-08-09T09:00:42.911548",
     "status": "completed"
    },
    "tags": []
   },
   "outputs": [],
   "source": [
    "plt.bar(list(range(1,31)), pca.explained_variance_ratio_, alpha = 0.5, align = 'center')\n",
    "plt.ylabel('Var Explained')\n",
    "plt.xlabel('Eigen value')\n",
    "plt.show()"
   ]
  },
  {
   "cell_type": "code",
   "execution_count": null,
   "id": "213057dc",
   "metadata": {
    "execution": {
     "iopub.execute_input": "2023-08-09T09:00:43.351535Z",
     "iopub.status.busy": "2023-08-09T09:00:43.351064Z",
     "iopub.status.idle": "2023-08-09T09:00:43.627820Z",
     "shell.execute_reply": "2023-08-09T09:00:43.626774Z"
    },
    "papermill": {
     "duration": 0.319616,
     "end_time": "2023-08-09T09:00:43.630179",
     "exception": false,
     "start_time": "2023-08-09T09:00:43.310563",
     "status": "completed"
    },
    "tags": []
   },
   "outputs": [],
   "source": [
    "plt.step(list(range(1,31)), np.cumsum(pca.explained_variance_ratio_), where = 'mid')\n",
    "plt.ylabel('Cumulative of Var Explained')\n",
    "plt.xlabel('Eigen value')\n",
    "plt.show()"
   ]
  },
  {
   "cell_type": "code",
   "execution_count": null,
   "id": "a0837404",
   "metadata": {
    "execution": {
     "iopub.execute_input": "2023-08-09T09:00:43.707684Z",
     "iopub.status.busy": "2023-08-09T09:00:43.706418Z",
     "iopub.status.idle": "2023-08-09T09:00:43.758398Z",
     "shell.execute_reply": "2023-08-09T09:00:43.756084Z"
    },
    "papermill": {
     "duration": 0.095577,
     "end_time": "2023-08-09T09:00:43.762742",
     "exception": false,
     "start_time": "2023-08-09T09:00:43.667165",
     "status": "completed"
    },
    "tags": []
   },
   "outputs": [],
   "source": [
    "pca3 = PCA(n_components = 7)\n",
    "pca3.fit(XScaled)\n",
    "\n",
    "print(pca3.components_)\n",
    "print(pca3.explained_variance_)\n",
    "Xpca3 = pca3.transform(XScaled)"
   ]
  },
  {
   "cell_type": "code",
   "execution_count": null,
   "id": "9708b7ed",
   "metadata": {
    "execution": {
     "iopub.execute_input": "2023-08-09T09:00:43.888214Z",
     "iopub.status.busy": "2023-08-09T09:00:43.887722Z",
     "iopub.status.idle": "2023-08-09T09:01:01.658632Z",
     "shell.execute_reply": "2023-08-09T09:01:01.656841Z"
    },
    "papermill": {
     "duration": 17.827939,
     "end_time": "2023-08-09T09:01:01.666904",
     "exception": false,
     "start_time": "2023-08-09T09:00:43.838965",
     "status": "completed"
    },
    "tags": []
   },
   "outputs": [],
   "source": [
    "sns.pairplot(pd.DataFrame(Xpca3))"
   ]
  },
  {
   "cell_type": "markdown",
   "id": "d7832cbe",
   "metadata": {
    "papermill": {
     "duration": 0.050077,
     "end_time": "2023-08-09T09:01:01.770284",
     "exception": false,
     "start_time": "2023-08-09T09:01:01.720207",
     "status": "completed"
    },
    "tags": []
   },
   "source": [
    "# MODELLING AFTER PCA"
   ]
  },
  {
   "cell_type": "code",
   "execution_count": null,
   "id": "5bff808d",
   "metadata": {
    "execution": {
     "iopub.execute_input": "2023-08-09T09:01:01.869003Z",
     "iopub.status.busy": "2023-08-09T09:01:01.868586Z",
     "iopub.status.idle": "2023-08-09T09:01:01.886267Z",
     "shell.execute_reply": "2023-08-09T09:01:01.885282Z"
    },
    "papermill": {
     "duration": 0.070617,
     "end_time": "2023-08-09T09:01:01.888651",
     "exception": false,
     "start_time": "2023-08-09T09:01:01.818034",
     "status": "completed"
    },
    "tags": []
   },
   "outputs": [],
   "source": [
    "smo = SMOTE()\n",
    "X_balanced, Y_balanced = smo.fit_resample(Xpca3, y)"
   ]
  },
  {
   "cell_type": "code",
   "execution_count": null,
   "id": "6f38e3fc",
   "metadata": {
    "execution": {
     "iopub.execute_input": "2023-08-09T09:01:01.990037Z",
     "iopub.status.busy": "2023-08-09T09:01:01.989301Z",
     "iopub.status.idle": "2023-08-09T09:01:01.999093Z",
     "shell.execute_reply": "2023-08-09T09:01:01.997949Z"
    },
    "papermill": {
     "duration": 0.062735,
     "end_time": "2023-08-09T09:01:02.001542",
     "exception": false,
     "start_time": "2023-08-09T09:01:01.938807",
     "status": "completed"
    },
    "tags": []
   },
   "outputs": [],
   "source": [
    "x_train, x_test, y_train, y_test = train_test_split(X_balanced, Y_balanced, test_size = 0.3, random_state = 1)"
   ]
  },
  {
   "cell_type": "code",
   "execution_count": null,
   "id": "0a9dd5b9",
   "metadata": {
    "execution": {
     "iopub.execute_input": "2023-08-09T09:01:02.106671Z",
     "iopub.status.busy": "2023-08-09T09:01:02.106084Z",
     "iopub.status.idle": "2023-08-09T09:01:02.137464Z",
     "shell.execute_reply": "2023-08-09T09:01:02.135909Z"
    },
    "papermill": {
     "duration": 0.088031,
     "end_time": "2023-08-09T09:01:02.140220",
     "exception": false,
     "start_time": "2023-08-09T09:01:02.052189",
     "status": "completed"
    },
    "tags": []
   },
   "outputs": [],
   "source": [
    "model_pca = LogisticRegression()\n",
    "model_pca.fit(x_train, y_train)\n",
    "y_predict = model_pca.predict(x_test)\n",
    "train_score = model_pca.score(x_train, y_train)\n",
    "test_score = model_pca.score(x_test, y_test)"
   ]
  },
  {
   "cell_type": "code",
   "execution_count": null,
   "id": "08c67501",
   "metadata": {
    "execution": {
     "iopub.execute_input": "2023-08-09T09:01:02.241576Z",
     "iopub.status.busy": "2023-08-09T09:01:02.241007Z",
     "iopub.status.idle": "2023-08-09T09:01:02.249583Z",
     "shell.execute_reply": "2023-08-09T09:01:02.247535Z"
    },
    "papermill": {
     "duration": 0.062664,
     "end_time": "2023-08-09T09:01:02.252178",
     "exception": false,
     "start_time": "2023-08-09T09:01:02.189514",
     "status": "completed"
    },
    "tags": []
   },
   "outputs": [],
   "source": [
    "print(\"LOGISTIC REGRESSION\")\n",
    "print(\"In Sample score is : \",train_score)\n",
    "print('_________' * 7)\n",
    "print('_________' * 7)\n",
    "print(\"Out-sample score is : \", test_score)"
   ]
  },
  {
   "cell_type": "code",
   "execution_count": null,
   "id": "5817535f",
   "metadata": {
    "execution": {
     "iopub.execute_input": "2023-08-09T09:01:02.352823Z",
     "iopub.status.busy": "2023-08-09T09:01:02.351992Z",
     "iopub.status.idle": "2023-08-09T09:01:02.417695Z",
     "shell.execute_reply": "2023-08-09T09:01:02.416466Z"
    },
    "papermill": {
     "duration": 0.119783,
     "end_time": "2023-08-09T09:01:02.420212",
     "exception": false,
     "start_time": "2023-08-09T09:01:02.300429",
     "status": "completed"
    },
    "tags": []
   },
   "outputs": [],
   "source": [
    "model_pca_kn = KNeighborsClassifier()\n",
    "model_pca_kn.fit(x_train, y_train)\n",
    "y_predict = model_pca_kn.predict(x_test)\n",
    "train_score = model_pca_kn.score(x_train, y_train)\n",
    "test_score = model_pca_kn.score(x_test, y_test)"
   ]
  },
  {
   "cell_type": "code",
   "execution_count": null,
   "id": "2fce61fb",
   "metadata": {
    "execution": {
     "iopub.execute_input": "2023-08-09T09:01:02.521700Z",
     "iopub.status.busy": "2023-08-09T09:01:02.520820Z",
     "iopub.status.idle": "2023-08-09T09:01:02.529008Z",
     "shell.execute_reply": "2023-08-09T09:01:02.527498Z"
    },
    "papermill": {
     "duration": 0.062595,
     "end_time": "2023-08-09T09:01:02.531318",
     "exception": false,
     "start_time": "2023-08-09T09:01:02.468723",
     "status": "completed"
    },
    "tags": []
   },
   "outputs": [],
   "source": [
    "print('KNearest Neighbours')\n",
    "print(\"In Sample score is : \",train_score)\n",
    "print('_________' * 7)\n",
    "print('_________' * 7)\n",
    "print(\"Out-sample score is : \", test_score)"
   ]
  },
  {
   "cell_type": "markdown",
   "id": "0b477ad5",
   "metadata": {
    "papermill": {
     "duration": 0.048657,
     "end_time": "2023-08-09T09:01:02.628208",
     "exception": false,
     "start_time": "2023-08-09T09:01:02.579551",
     "status": "completed"
    },
    "tags": []
   },
   "source": [
    "# Final"
   ]
  },
  {
   "cell_type": "markdown",
   "id": "40233942",
   "metadata": {
    "papermill": {
     "duration": 0.047725,
     "end_time": "2023-08-09T09:01:02.724300",
     "exception": false,
     "start_time": "2023-08-09T09:01:02.676575",
     "status": "completed"
    },
    "tags": []
   },
   "source": [
    "**Logistic Regression without PCA**\n",
    "* Score on Training Data = 94%\n",
    "* Score on Test Data = 95%\n",
    "\n",
    "**KNeighbours Classifier without PCA**\n",
    "* Score on Training Data = 93%\n",
    "* Score on Test Data = 94%\n",
    "\n",
    "**Logistic Regression with PCA**\n",
    "* Score on Training Data = 97%\n",
    "* Score on Test Data = 98%\n",
    "\n",
    "**KNeighbours Classifier with PCA**\n",
    "* Score on Training Data = 98%\n",
    "* Score on Test Data = 96%"
   ]
  },
  {
   "cell_type": "code",
   "execution_count": null,
   "id": "061b2d81",
   "metadata": {
    "papermill": {
     "duration": 0.048355,
     "end_time": "2023-08-09T09:01:02.821786",
     "exception": false,
     "start_time": "2023-08-09T09:01:02.773431",
     "status": "completed"
    },
    "tags": []
   },
   "outputs": [],
   "source": []
  }
 ],
 "metadata": {
  "kernelspec": {
   "display_name": "Python 3 (ipykernel)",
   "language": "python",
   "name": "python3"
  },
  "language_info": {
   "codemirror_mode": {
    "name": "ipython",
    "version": 3
   },
   "file_extension": ".py",
   "mimetype": "text/x-python",
   "name": "python",
   "nbconvert_exporter": "python",
   "pygments_lexer": "ipython3",
   "version": "3.11.4"
  },
  "papermill": {
   "default_parameters": {},
   "duration": 45.674406,
   "end_time": "2023-08-09T09:01:04.900077",
   "environment_variables": {},
   "exception": null,
   "input_path": "__notebook__.ipynb",
   "output_path": "__notebook__.ipynb",
   "parameters": {},
   "start_time": "2023-08-09T09:00:19.225671",
   "version": "2.4.0"
  }
 },
 "nbformat": 4,
 "nbformat_minor": 5
}
